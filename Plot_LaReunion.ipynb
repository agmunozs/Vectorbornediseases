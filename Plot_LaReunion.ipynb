{
 "cells": [
  {
   "cell_type": "code",
   "execution_count": 1,
   "metadata": {},
   "outputs": [],
   "source": [
    "import datetime\n",
    "import numpy as np\n",
    "import pandas as pd\n",
    "from sklearn import preprocessing\n",
    "%matplotlib inline\n",
    "import matplotlib.pyplot as plt\n",
    "import matplotlib.dates as mdates\n",
    "from matplotlib.ticker import MultipleLocator\n",
    "import matplotlib\n",
    "plt.style.use('seaborn-white')\n",
    "matplotlib.rcParams['axes.labelsize'] = 16\n",
    "matplotlib.rcParams['xtick.labelsize'] = 14\n",
    "matplotlib.rcParams['ytick.labelsize'] = 14\n",
    "matplotlib.rcParams['text.color'] = 'k'"
   ]
  },
  {
   "cell_type": "code",
   "execution_count": 2,
   "metadata": {},
   "outputs": [],
   "source": [
    "df = pd.read_csv(\"RU3.txt\", sep=\" \")\n",
    "df2= pd.read_csv(\"weeklydata.txt\", sep=\" \")"
   ]
  },
  {
   "cell_type": "code",
   "execution_count": 14,
   "metadata": {},
   "outputs": [],
   "source": [
    "df = df[df['Date2'] > '2000-12-31']\n",
    "df2 = df2[df2['Line'] > 942]\n",
    "#weekly normalized abundance\n",
    "sample = df[::7]\n",
    "Atnm=preprocessing.scale(sample['At'])\n",
    "error=np.std(Atnm)\n",
    "#weekly epi data\n",
    "epi=df2['e']\n",
    "error3=np.std(epi)\n",
    "\n",
    "#daily\n",
    "#Atnm2=preprocessing.scale(df['At'])\n",
    "#error2=np.std(Atnm2)\n",
    "#Atnmd = pd.DataFrame({'date':df['Date2'], 'data':Atnm2})\n",
    "#Atnmd.date = pd.to_datetime(Atnmd.date)\n",
    "#Atnmd[(Atnmd.date < '2018-03-25') & (Atnmd.date > '2017-12-01')];\n",
    "#Atnmd.date=Atnmd.date[(Atnmd.date < '2018-03-25') & (Atnmd.date > '2017-12-01')];"
   ]
  },
  {
   "cell_type": "code",
   "execution_count": 43,
   "metadata": {},
   "outputs": [],
   "source": [
    "from matplotlib.backends.backend_pdf import PdfPages\n",
    "with PdfPages('Figure_LaReunion.pdf') as pdf:\n",
    "\n",
    "    dates = pd.date_range(start='2000-12-31',end=max(sample['Date2']),freq='W')\n",
    "    dates2= dates[dates> '2017-09-30']\n",
    "\n",
    "    plt.rcParams[\"figure.figsize\"] = (20,10)\n",
    "\n",
    "    ax1 = plt.axes()  # main axes\n",
    "    ax1.plot(dates, Atnm,label = 'Standardized abundance');\n",
    "    ax1.fill_between(dates, Atnm-error, Atnm+error,\n",
    "    alpha=0.6, edgecolor = 'k')\n",
    "    plt.xlabel('Date'); plt.ylabel('Standardized abundance ($\\sigma$)',color='cornflowerblue')\n",
    "    ax1.xaxis.set_major_formatter(mdates.DateFormatter('%Y'))\n",
    "    ax1.xaxis.set_tick_params(reset=True)\n",
    "    ax1.xaxis.set_major_locator(mdates.YearLocator(1))\n",
    "    ax1.xaxis.set_minor_locator(mdates.MonthLocator())\n",
    "    ax1.xaxis.set_major_formatter(mdates.DateFormatter('%Y'))\n",
    "    plt.ylim((-3,5.5))\n",
    "    plt.xlim(('2001-01-01','2019-01-01'))\n",
    "    plt.axhline(0, color='black')\n",
    "    #ax1.xaxis.grid(True, 'major')\n",
    "    ax1.tick_params(axis='x',which='minor',bottom=True)\n",
    "    ax1.yaxis.grid(True, 'major')\n",
    "    ax1.xaxis.grid(True, 'major')\n",
    "\n",
    "    ax2 = plt.axes([0.712, 0.74, 0.15, 0.12]) # subplot axes\n",
    "    ax2.plot(dates, Atnm,label = 'Standardized abundance');\n",
    "    ax2.fill_between(dates, Atnm-error, Atnm+error,\n",
    "    alpha=0.6, edgecolor = 'k')\n",
    "    ax2.tick_params(axis='y',which='minor',left=True)\n",
    "    ax2.xaxis.set_major_formatter(mdates.DateFormatter(\"%d %b '%y\"))\n",
    "    plt.xlim(('2017-12-01','2018-04-01'))\n",
    "    ax2.set_ylim(-2,3.1)\n",
    "    plt.yticks(np.arange(-2, 3.1, 1.0))\n",
    "    plt.ylabel('Std. Ab. ($\\sigma$)',color='cornflowerblue')\n",
    "    plt.xticks(rotation=90)\n",
    "    ax2.yaxis.grid(True, 'major')\n",
    "\n",
    "    ax3 = ax2.twinx()\n",
    "    ax3.plot(dates2, epi,label = 'Epi data',color='red');\n",
    "    ax3.fill_between(dates2, epi-error3, epi+error3,\n",
    "    alpha=0.6, facecolor='red',edgecolor = 'k')\n",
    "    ax3.set_ylim(0,151)\n",
    "    plt.yticks(np.arange(0, 151, 50.0))\n",
    "    ax3.xaxis.set_major_formatter(mdates.DateFormatter(\"%d %b '%y\"))\n",
    "    plt.ylabel('Epi-data',color='red')\n",
    "\n",
    "    pdf.savefig()  # saves the current figure into a pdf page\n",
    "    plt.close()"
   ]
  },
  {
   "cell_type": "code",
   "execution_count": null,
   "metadata": {},
   "outputs": [],
   "source": []
  }
 ],
 "metadata": {
  "kernelspec": {
   "display_name": "Python 3",
   "language": "python",
   "name": "python3"
  },
  "language_info": {
   "codemirror_mode": {
    "name": "ipython",
    "version": 3
   },
   "file_extension": ".py",
   "mimetype": "text/x-python",
   "name": "python",
   "nbconvert_exporter": "python",
   "pygments_lexer": "ipython3",
   "version": "3.6.4"
  }
 },
 "nbformat": 4,
 "nbformat_minor": 2
}
